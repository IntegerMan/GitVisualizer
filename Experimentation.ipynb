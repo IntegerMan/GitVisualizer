{
 "cells": [
  {
   "cell_type": "code",
   "execution_count": 1,
   "metadata": {
    "collapsed": true
   },
   "outputs": [],
   "source": [
    "from pydriller import Repository"
   ]
  },
  {
   "cell_type": "code",
   "execution_count": 22,
   "outputs": [],
   "source": [
    "def getChangesInRepository(repoPath):\n",
    "    changes = []\n",
    "\n",
    "    for commit in Repository(repoPath).traverse_commits():\n",
    "        for file in commit.modified_files:\n",
    "            record = {\n",
    "                'path': file.new_path,\n",
    "                'commit': commit.hash,\n",
    "                'author': commit.author.name,\n",
    "                'lines_added': file.added_lines,\n",
    "                'lines_deleted': file.deleted_lines,\n",
    "            }\n",
    "            changes.append(record)\n",
    "\n",
    "    return changes"
   ],
   "metadata": {
    "collapsed": false,
    "pycharm": {
     "name": "#%%\n"
    }
   }
  },
  {
   "cell_type": "code",
   "execution_count": 23,
   "outputs": [
    {
     "data": {
      "text/plain": "[{'path': '.gitignore',\n  'commit': 'a85288e6deee374264b13d3143c886962e90550d',\n  'author': 'Matt Eland',\n  'lines_added': 0,\n  'lines_deleted': 0},\n {'path': 'README.md',\n  'commit': 'a85288e6deee374264b13d3143c886962e90550d',\n  'author': 'Matt Eland',\n  'lines_added': 1,\n  'lines_deleted': 0},\n {'path': '.gitignore',\n  'commit': 'c58bad1219a1cf9b9b1105791fffc331a6d902fe',\n  'author': 'Matt Eland',\n  'lines_added': 139,\n  'lines_deleted': 0},\n {'path': 'Experimentation.ipynb',\n  'commit': 'c58bad1219a1cf9b9b1105791fffc331a6d902fe',\n  'author': 'Matt Eland',\n  'lines_added': 36,\n  'lines_deleted': 0},\n {'path': 'Experimentation.ipynb',\n  'commit': '93847fdd7442be01b96103dfb281eb1ae64ece45',\n  'author': 'Matt Eland',\n  'lines_added': 56,\n  'lines_deleted': 2}]"
     },
     "execution_count": 23,
     "metadata": {},
     "output_type": "execute_result"
    }
   ],
   "source": [
    "changes = getChangesInRepository('https://github.com/IntegerMan/GitVisualizer')\n",
    "changes"
   ],
   "metadata": {
    "collapsed": false,
    "pycharm": {
     "name": "#%%\n"
    }
   }
  },
  {
   "cell_type": "code",
   "execution_count": 24,
   "outputs": [
    {
     "data": {
      "text/plain": "                    path                                    commit  \\\n0             .gitignore  a85288e6deee374264b13d3143c886962e90550d   \n1              README.md  a85288e6deee374264b13d3143c886962e90550d   \n2             .gitignore  c58bad1219a1cf9b9b1105791fffc331a6d902fe   \n3  Experimentation.ipynb  c58bad1219a1cf9b9b1105791fffc331a6d902fe   \n4  Experimentation.ipynb  93847fdd7442be01b96103dfb281eb1ae64ece45   \n\n       author  lines_added  lines_deleted  count  \n0  Matt Eland            0              0      1  \n1  Matt Eland            1              0      1  \n2  Matt Eland          139              0      1  \n3  Matt Eland           36              0      1  \n4  Matt Eland           56              2      1  ",
      "text/html": "<div>\n<style scoped>\n    .dataframe tbody tr th:only-of-type {\n        vertical-align: middle;\n    }\n\n    .dataframe tbody tr th {\n        vertical-align: top;\n    }\n\n    .dataframe thead th {\n        text-align: right;\n    }\n</style>\n<table border=\"1\" class=\"dataframe\">\n  <thead>\n    <tr style=\"text-align: right;\">\n      <th></th>\n      <th>path</th>\n      <th>commit</th>\n      <th>author</th>\n      <th>lines_added</th>\n      <th>lines_deleted</th>\n      <th>count</th>\n    </tr>\n  </thead>\n  <tbody>\n    <tr>\n      <th>0</th>\n      <td>.gitignore</td>\n      <td>a85288e6deee374264b13d3143c886962e90550d</td>\n      <td>Matt Eland</td>\n      <td>0</td>\n      <td>0</td>\n      <td>1</td>\n    </tr>\n    <tr>\n      <th>1</th>\n      <td>README.md</td>\n      <td>a85288e6deee374264b13d3143c886962e90550d</td>\n      <td>Matt Eland</td>\n      <td>1</td>\n      <td>0</td>\n      <td>1</td>\n    </tr>\n    <tr>\n      <th>2</th>\n      <td>.gitignore</td>\n      <td>c58bad1219a1cf9b9b1105791fffc331a6d902fe</td>\n      <td>Matt Eland</td>\n      <td>139</td>\n      <td>0</td>\n      <td>1</td>\n    </tr>\n    <tr>\n      <th>3</th>\n      <td>Experimentation.ipynb</td>\n      <td>c58bad1219a1cf9b9b1105791fffc331a6d902fe</td>\n      <td>Matt Eland</td>\n      <td>36</td>\n      <td>0</td>\n      <td>1</td>\n    </tr>\n    <tr>\n      <th>4</th>\n      <td>Experimentation.ipynb</td>\n      <td>93847fdd7442be01b96103dfb281eb1ae64ece45</td>\n      <td>Matt Eland</td>\n      <td>56</td>\n      <td>2</td>\n      <td>1</td>\n    </tr>\n  </tbody>\n</table>\n</div>"
     },
     "execution_count": 24,
     "metadata": {},
     "output_type": "execute_result"
    }
   ],
   "source": [
    "import pandas as pd\n",
    "import numpy as np\n",
    "\n",
    "df = pd.DataFrame(changes)\n",
    "df['count'] = 1 # used for summing in grouped mode\n",
    "df"
   ],
   "metadata": {
    "collapsed": false,
    "pycharm": {
     "name": "#%%\n"
    }
   }
  },
  {
   "cell_type": "code",
   "execution_count": 25,
   "outputs": [
    {
     "data": {
      "text/plain": "                       lines_added  lines_deleted  count\npath                                                    \n.gitignore                     139              0      2\nExperimentation.ipynb           92              2      2\nREADME.md                        1              0      1",
      "text/html": "<div>\n<style scoped>\n    .dataframe tbody tr th:only-of-type {\n        vertical-align: middle;\n    }\n\n    .dataframe tbody tr th {\n        vertical-align: top;\n    }\n\n    .dataframe thead th {\n        text-align: right;\n    }\n</style>\n<table border=\"1\" class=\"dataframe\">\n  <thead>\n    <tr style=\"text-align: right;\">\n      <th></th>\n      <th>lines_added</th>\n      <th>lines_deleted</th>\n      <th>count</th>\n    </tr>\n    <tr>\n      <th>path</th>\n      <th></th>\n      <th></th>\n      <th></th>\n    </tr>\n  </thead>\n  <tbody>\n    <tr>\n      <th>.gitignore</th>\n      <td>139</td>\n      <td>0</td>\n      <td>2</td>\n    </tr>\n    <tr>\n      <th>Experimentation.ipynb</th>\n      <td>92</td>\n      <td>2</td>\n      <td>2</td>\n    </tr>\n    <tr>\n      <th>README.md</th>\n      <td>1</td>\n      <td>0</td>\n      <td>1</td>\n    </tr>\n  </tbody>\n</table>\n</div>"
     },
     "execution_count": 25,
     "metadata": {},
     "output_type": "execute_result"
    }
   ],
   "source": [
    "grouped = df.groupby(by=['path']).sum()\n",
    "grouped"
   ],
   "metadata": {
    "collapsed": false,
    "pycharm": {
     "name": "#%%\n"
    }
   }
  },
  {
   "cell_type": "code",
   "execution_count": 26,
   "outputs": [],
   "source": [
    "# TODO: I need a matrix of files and the count of times they were changed alongside other files"
   ],
   "metadata": {
    "collapsed": false,
    "pycharm": {
     "name": "#%%\n"
    }
   }
  }
 ],
 "metadata": {
  "kernelspec": {
   "display_name": "Python 3",
   "language": "python",
   "name": "python3"
  },
  "language_info": {
   "codemirror_mode": {
    "name": "ipython",
    "version": 2
   },
   "file_extension": ".py",
   "mimetype": "text/x-python",
   "name": "python",
   "nbconvert_exporter": "python",
   "pygments_lexer": "ipython2",
   "version": "2.7.6"
  }
 },
 "nbformat": 4,
 "nbformat_minor": 0
}