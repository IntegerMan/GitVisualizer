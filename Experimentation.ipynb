{
 "cells": [
  {
   "cell_type": "code",
   "execution_count": 35,
   "metadata": {
    "collapsed": true
   },
   "outputs": [],
   "source": [
    "from pydriller import Repository\n",
    "import pandas as pd\n",
    "import numpy as np\n",
    "import networkx as nx\n",
    "import matplotlib.pyplot as plt"
   ]
  },
  {
   "cell_type": "code",
   "execution_count": 28,
   "outputs": [],
   "source": [
    "def getChangesInRepository(repoPath):\n",
    "    changes = []\n",
    "\n",
    "    for commit in Repository(repoPath).traverse_commits():\n",
    "        for file in commit.modified_files:\n",
    "            record = {\n",
    "                'path': file.new_path,\n",
    "                'commit': commit.hash,\n",
    "                'author': commit.author.name,\n",
    "                'lines_added': file.added_lines,\n",
    "                'lines_deleted': file.deleted_lines,\n",
    "            }\n",
    "            changes.append(record)\n",
    "\n",
    "    return changes"
   ],
   "metadata": {
    "collapsed": false,
    "pycharm": {
     "name": "#%%\n"
    }
   }
  },
  {
   "cell_type": "code",
   "execution_count": 29,
   "outputs": [
    {
     "data": {
      "text/plain": "[{'path': '.gitignore',\n  'commit': 'a85288e6deee374264b13d3143c886962e90550d',\n  'author': 'Matt Eland',\n  'lines_added': 0,\n  'lines_deleted': 0},\n {'path': 'README.md',\n  'commit': 'a85288e6deee374264b13d3143c886962e90550d',\n  'author': 'Matt Eland',\n  'lines_added': 1,\n  'lines_deleted': 0},\n {'path': '.gitignore',\n  'commit': 'c58bad1219a1cf9b9b1105791fffc331a6d902fe',\n  'author': 'Matt Eland',\n  'lines_added': 139,\n  'lines_deleted': 0},\n {'path': 'Experimentation.ipynb',\n  'commit': 'c58bad1219a1cf9b9b1105791fffc331a6d902fe',\n  'author': 'Matt Eland',\n  'lines_added': 36,\n  'lines_deleted': 0},\n {'path': 'Experimentation.ipynb',\n  'commit': '93847fdd7442be01b96103dfb281eb1ae64ece45',\n  'author': 'Matt Eland',\n  'lines_added': 56,\n  'lines_deleted': 2},\n {'path': 'Experimentation.ipynb',\n  'commit': '5046140600e8c4b698956f25353f092e5fc8aafc',\n  'author': 'Matt Eland',\n  'lines_added': 75,\n  'lines_deleted': 9}]"
     },
     "execution_count": 29,
     "metadata": {},
     "output_type": "execute_result"
    }
   ],
   "source": [
    "changes = getChangesInRepository('https://github.com/IntegerMan/GitVisualizer')\n",
    "changes"
   ],
   "metadata": {
    "collapsed": false,
    "pycharm": {
     "name": "#%%\n"
    }
   }
  },
  {
   "cell_type": "code",
   "execution_count": 30,
   "outputs": [
    {
     "data": {
      "text/plain": "                    path                                    commit  \\\n0             .gitignore  a85288e6deee374264b13d3143c886962e90550d   \n1              README.md  a85288e6deee374264b13d3143c886962e90550d   \n2             .gitignore  c58bad1219a1cf9b9b1105791fffc331a6d902fe   \n3  Experimentation.ipynb  c58bad1219a1cf9b9b1105791fffc331a6d902fe   \n4  Experimentation.ipynb  93847fdd7442be01b96103dfb281eb1ae64ece45   \n5  Experimentation.ipynb  5046140600e8c4b698956f25353f092e5fc8aafc   \n\n       author  lines_added  lines_deleted  count  \n0  Matt Eland            0              0      1  \n1  Matt Eland            1              0      1  \n2  Matt Eland          139              0      1  \n3  Matt Eland           36              0      1  \n4  Matt Eland           56              2      1  \n5  Matt Eland           75              9      1  ",
      "text/html": "<div>\n<style scoped>\n    .dataframe tbody tr th:only-of-type {\n        vertical-align: middle;\n    }\n\n    .dataframe tbody tr th {\n        vertical-align: top;\n    }\n\n    .dataframe thead th {\n        text-align: right;\n    }\n</style>\n<table border=\"1\" class=\"dataframe\">\n  <thead>\n    <tr style=\"text-align: right;\">\n      <th></th>\n      <th>path</th>\n      <th>commit</th>\n      <th>author</th>\n      <th>lines_added</th>\n      <th>lines_deleted</th>\n      <th>count</th>\n    </tr>\n  </thead>\n  <tbody>\n    <tr>\n      <th>0</th>\n      <td>.gitignore</td>\n      <td>a85288e6deee374264b13d3143c886962e90550d</td>\n      <td>Matt Eland</td>\n      <td>0</td>\n      <td>0</td>\n      <td>1</td>\n    </tr>\n    <tr>\n      <th>1</th>\n      <td>README.md</td>\n      <td>a85288e6deee374264b13d3143c886962e90550d</td>\n      <td>Matt Eland</td>\n      <td>1</td>\n      <td>0</td>\n      <td>1</td>\n    </tr>\n    <tr>\n      <th>2</th>\n      <td>.gitignore</td>\n      <td>c58bad1219a1cf9b9b1105791fffc331a6d902fe</td>\n      <td>Matt Eland</td>\n      <td>139</td>\n      <td>0</td>\n      <td>1</td>\n    </tr>\n    <tr>\n      <th>3</th>\n      <td>Experimentation.ipynb</td>\n      <td>c58bad1219a1cf9b9b1105791fffc331a6d902fe</td>\n      <td>Matt Eland</td>\n      <td>36</td>\n      <td>0</td>\n      <td>1</td>\n    </tr>\n    <tr>\n      <th>4</th>\n      <td>Experimentation.ipynb</td>\n      <td>93847fdd7442be01b96103dfb281eb1ae64ece45</td>\n      <td>Matt Eland</td>\n      <td>56</td>\n      <td>2</td>\n      <td>1</td>\n    </tr>\n    <tr>\n      <th>5</th>\n      <td>Experimentation.ipynb</td>\n      <td>5046140600e8c4b698956f25353f092e5fc8aafc</td>\n      <td>Matt Eland</td>\n      <td>75</td>\n      <td>9</td>\n      <td>1</td>\n    </tr>\n  </tbody>\n</table>\n</div>"
     },
     "execution_count": 30,
     "metadata": {},
     "output_type": "execute_result"
    }
   ],
   "source": [
    "df = pd.DataFrame(changes)\n",
    "df['count'] = 1 # used for summing in grouped mode\n",
    "df"
   ],
   "metadata": {
    "collapsed": false,
    "pycharm": {
     "name": "#%%\n"
    }
   }
  },
  {
   "cell_type": "code",
   "execution_count": 31,
   "outputs": [
    {
     "data": {
      "text/plain": "                       lines_added  lines_deleted  count\npath                                                    \n.gitignore                     139              0      2\nExperimentation.ipynb          167             11      3\nREADME.md                        1              0      1",
      "text/html": "<div>\n<style scoped>\n    .dataframe tbody tr th:only-of-type {\n        vertical-align: middle;\n    }\n\n    .dataframe tbody tr th {\n        vertical-align: top;\n    }\n\n    .dataframe thead th {\n        text-align: right;\n    }\n</style>\n<table border=\"1\" class=\"dataframe\">\n  <thead>\n    <tr style=\"text-align: right;\">\n      <th></th>\n      <th>lines_added</th>\n      <th>lines_deleted</th>\n      <th>count</th>\n    </tr>\n    <tr>\n      <th>path</th>\n      <th></th>\n      <th></th>\n      <th></th>\n    </tr>\n  </thead>\n  <tbody>\n    <tr>\n      <th>.gitignore</th>\n      <td>139</td>\n      <td>0</td>\n      <td>2</td>\n    </tr>\n    <tr>\n      <th>Experimentation.ipynb</th>\n      <td>167</td>\n      <td>11</td>\n      <td>3</td>\n    </tr>\n    <tr>\n      <th>README.md</th>\n      <td>1</td>\n      <td>0</td>\n      <td>1</td>\n    </tr>\n  </tbody>\n</table>\n</div>"
     },
     "execution_count": 31,
     "metadata": {},
     "output_type": "execute_result"
    }
   ],
   "source": [
    "grouped = df.groupby(by=['path']).sum()\n",
    "grouped"
   ],
   "metadata": {
    "collapsed": false,
    "pycharm": {
     "name": "#%%\n"
    }
   }
  },
  {
   "cell_type": "code",
   "execution_count": 32,
   "outputs": [],
   "source": [
    "# TODO: I need a matrix of files and the count of times they were changed alongside other files"
   ],
   "metadata": {
    "collapsed": false,
    "pycharm": {
     "name": "#%%\n"
    }
   }
  },
  {
   "cell_type": "code",
   "execution_count": 36,
   "outputs": [
    {
     "data": {
      "text/plain": "<Figure size 432x288 with 1 Axes>",
      "image/png": "[encoded data removed]"
     },
     "metadata": {},
     "output_type": "display_data"
    }
   ],
   "source": [
    "# libraries\n",
    "# Build a dataframe with your connections\n",
    "df = pd.DataFrame({ 'from':['A', 'B', 'C','A'], 'to':['D', 'A', 'E','C']})\n",
    "\n",
    "# And a data frame with characteristics for your nodes\n",
    "carac = pd.DataFrame({ 'ID':['A', 'B', 'C','D','E'], 'myvalue':['group1','group1','group2','group3','group3'] })\n",
    "\n",
    "# Build your graph\n",
    "G=nx.from_pandas_edgelist(df, 'from', 'to', create_using=nx.Graph() )\n",
    "\n",
    "# The order of the node for networkX is the following order:\n",
    "G.nodes()\n",
    "# Thus, we cannot give directly the 'myvalue' column to netowrkX, we need to arrange the order!\n",
    "\n",
    "# Here is the tricky part: I need to reorder carac to assign the good color to each node\n",
    "carac= carac.set_index('ID')\n",
    "carac=carac.reindex(G.nodes())\n",
    "\n",
    "# And I need to transform my categorical column in a numerical value: group1->1, group2->2...\n",
    "carac['myvalue']=pd.Categorical(carac['myvalue'])\n",
    "carac['myvalue'].cat.codes\n",
    "\n",
    "# Custom the nodes:\n",
    "nx.draw(G, with_labels=True, node_color=carac['myvalue'].cat.codes, cmap=plt.cm.Set1, node_size=1500)"
   ],
   "metadata": {
    "collapsed": false,
    "pycharm": {
     "name": "#%%\n"
    }
   }
  }
 ],
 "metadata": {
  "kernelspec": {
   "display_name": "Python 3",
   "language": "python",
   "name": "python3"
  },
  "language_info": {
   "codemirror_mode": {
    "name": "ipython",
    "version": 2
   },
   "file_extension": ".py",
   "mimetype": "text/x-python",
   "name": "python",
   "nbconvert_exporter": "python",
   "pygments_lexer": "ipython2",
   "version": "2.7.6"
  }
 },
 "nbformat": 4,
 "nbformat_minor": 0
}