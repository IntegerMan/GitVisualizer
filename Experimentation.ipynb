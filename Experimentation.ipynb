{
 "cells": [
  {
   "cell_type": "code",
   "execution_count": 1,
   "metadata": {
    "collapsed": true
   },
   "outputs": [],
   "source": [
    "import pandas as pd\n",
    "import numpy as np\n",
    "from pydriller import Repository"
   ]
  },
  {
   "cell_type": "code",
   "execution_count": 4,
   "outputs": [],
   "source": [
    "def getChangesInRepository(repoPath):\n",
    "    changes = []\n",
    "\n",
    "    for commit in Repository(repoPath).traverse_commits():\n",
    "        for file in commit.modified_files:\n",
    "            record = {\n",
    "                'file': file.filename,\n",
    "                'lines_added': file.added_lines,\n",
    "                'lines_deleted': file.deleted_lines,\n",
    "                'commit': commit.hash,\n",
    "                'author': commit.author.name\n",
    "            }\n",
    "            changes.append(record)\n",
    "\n",
    "    return changes"
   ],
   "metadata": {
    "collapsed": false,
    "pycharm": {
     "name": "#%%\n"
    }
   }
  },
  {
   "cell_type": "code",
   "execution_count": 5,
   "outputs": [
    {
     "data": {
      "text/plain": "[{'file': '.gitignore',\n  'lines_added': 0,\n  'lines_deleted': 0,\n  'commit': 'a85288e6deee374264b13d3143c886962e90550d',\n  'author': 'Matt Eland'},\n {'file': 'README.md',\n  'lines_added': 1,\n  'lines_deleted': 0,\n  'commit': 'a85288e6deee374264b13d3143c886962e90550d',\n  'author': 'Matt Eland'},\n {'file': '.gitignore',\n  'lines_added': 139,\n  'lines_deleted': 0,\n  'commit': 'c58bad1219a1cf9b9b1105791fffc331a6d902fe',\n  'author': 'Matt Eland'},\n {'file': 'Experimentation.ipynb',\n  'lines_added': 36,\n  'lines_deleted': 0,\n  'commit': 'c58bad1219a1cf9b9b1105791fffc331a6d902fe',\n  'author': 'Matt Eland'}]"
     },
     "execution_count": 5,
     "metadata": {},
     "output_type": "execute_result"
    }
   ],
   "source": [
    "changes = getChangesInRepository('https://github.com/IntegerMan/GitVisualizer')\n",
    "changes"
   ],
   "metadata": {
    "collapsed": false,
    "pycharm": {
     "name": "#%%\n"
    }
   }
  }
 ],
 "metadata": {
  "kernelspec": {
   "display_name": "Python 3",
   "language": "python",
   "name": "python3"
  },
  "language_info": {
   "codemirror_mode": {
    "name": "ipython",
    "version": 2
   },
   "file_extension": ".py",
   "mimetype": "text/x-python",
   "name": "python",
   "nbconvert_exporter": "python",
   "pygments_lexer": "ipython2",
   "version": "2.7.6"
  }
 },
 "nbformat": 4,
 "nbformat_minor": 0
}