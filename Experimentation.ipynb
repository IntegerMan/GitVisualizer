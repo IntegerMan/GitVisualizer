{
 "cells": [
  {
   "cell_type": "code",
   "execution_count": 1,
   "outputs": [
    {
     "data": {
      "text/plain": "[{'hash': 'a85288e6deee374264b13d3143c886962e90550d',\n  'paths': ['.gitignore', 'README.md']},\n {'hash': 'c58bad1219a1cf9b9b1105791fffc331a6d902fe',\n  'paths': ['.gitignore', 'Experimentation.ipynb']},\n {'hash': '93847fdd7442be01b96103dfb281eb1ae64ece45',\n  'paths': ['Experimentation.ipynb']},\n {'hash': '5046140600e8c4b698956f25353f092e5fc8aafc',\n  'paths': ['Experimentation.ipynb']},\n {'hash': '2034c4255e4f0c63befa51f905be0053c010898b',\n  'paths': ['Experimentation.ipynb']},\n {'hash': '3d702f368eaf0df616df8fea3af88c03dc367f49',\n  'paths': ['Experimentation.ipynb', 'GitAnalyzer.py']},\n {'hash': '4b60a127992e35478bb2e0abf42fa9a9cabe994a',\n  'paths': ['Experimentation.ipynb', 'RelationshipAnalyzer.py']}]"
     },
     "execution_count": 1,
     "metadata": {},
     "output_type": "execute_result"
    }
   ],
   "source": [
    "from GitAnalyzer import analyze_repository\n",
    "\n",
    "repoPath = 'https://github.com/IntegerMan/GitVisualizer'\n",
    "\n",
    "combinations, fileModifications = analyze_repository(repoPath)\n",
    "combinations"
   ],
   "metadata": {
    "collapsed": false,
    "pycharm": {
     "name": "#%%\n"
    }
   }
  },
  {
   "cell_type": "code",
   "execution_count": 2,
   "outputs": [
    {
     "data": {
      "text/plain": "                    path                                    commit  \\\n0             .gitignore  a85288e6deee374264b13d3143c886962e90550d   \n1              README.md  a85288e6deee374264b13d3143c886962e90550d   \n2             .gitignore  c58bad1219a1cf9b9b1105791fffc331a6d902fe   \n3  Experimentation.ipynb  c58bad1219a1cf9b9b1105791fffc331a6d902fe   \n4  Experimentation.ipynb  93847fdd7442be01b96103dfb281eb1ae64ece45   \n\n       author  lines_added  lines_deleted  count  \n0  Matt Eland            0              0      1  \n1  Matt Eland            1              0      1  \n2  Matt Eland          139              0      1  \n3  Matt Eland           36              0      1  \n4  Matt Eland           56              2      1  ",
      "text/html": "<div>\n<style scoped>\n    .dataframe tbody tr th:only-of-type {\n        vertical-align: middle;\n    }\n\n    .dataframe tbody tr th {\n        vertical-align: top;\n    }\n\n    .dataframe thead th {\n        text-align: right;\n    }\n</style>\n<table border=\"1\" class=\"dataframe\">\n  <thead>\n    <tr style=\"text-align: right;\">\n      <th></th>\n      <th>path</th>\n      <th>commit</th>\n      <th>author</th>\n      <th>lines_added</th>\n      <th>lines_deleted</th>\n      <th>count</th>\n    </tr>\n  </thead>\n  <tbody>\n    <tr>\n      <th>0</th>\n      <td>.gitignore</td>\n      <td>a85288e6deee374264b13d3143c886962e90550d</td>\n      <td>Matt Eland</td>\n      <td>0</td>\n      <td>0</td>\n      <td>1</td>\n    </tr>\n    <tr>\n      <th>1</th>\n      <td>README.md</td>\n      <td>a85288e6deee374264b13d3143c886962e90550d</td>\n      <td>Matt Eland</td>\n      <td>1</td>\n      <td>0</td>\n      <td>1</td>\n    </tr>\n    <tr>\n      <th>2</th>\n      <td>.gitignore</td>\n      <td>c58bad1219a1cf9b9b1105791fffc331a6d902fe</td>\n      <td>Matt Eland</td>\n      <td>139</td>\n      <td>0</td>\n      <td>1</td>\n    </tr>\n    <tr>\n      <th>3</th>\n      <td>Experimentation.ipynb</td>\n      <td>c58bad1219a1cf9b9b1105791fffc331a6d902fe</td>\n      <td>Matt Eland</td>\n      <td>36</td>\n      <td>0</td>\n      <td>1</td>\n    </tr>\n    <tr>\n      <th>4</th>\n      <td>Experimentation.ipynb</td>\n      <td>93847fdd7442be01b96103dfb281eb1ae64ece45</td>\n      <td>Matt Eland</td>\n      <td>56</td>\n      <td>2</td>\n      <td>1</td>\n    </tr>\n  </tbody>\n</table>\n</div>"
     },
     "execution_count": 2,
     "metadata": {},
     "output_type": "execute_result"
    }
   ],
   "source": [
    "import pandas as pd\n",
    "\n",
    "df = pd.DataFrame(fileModifications)\n",
    "df['count'] = 1 # used for summing in grouped mode\n",
    "df.head()"
   ],
   "metadata": {
    "collapsed": false,
    "pycharm": {
     "name": "#%%\n"
    }
   }
  },
  {
   "cell_type": "code",
   "execution_count": 3,
   "outputs": [
    {
     "data": {
      "text/plain": "                       path                                    commit  \\\n0                .gitignore  a85288e6deee374264b13d3143c886962e90550d   \n1                 README.md  a85288e6deee374264b13d3143c886962e90550d   \n2                .gitignore  c58bad1219a1cf9b9b1105791fffc331a6d902fe   \n3     Experimentation.ipynb  c58bad1219a1cf9b9b1105791fffc331a6d902fe   \n4     Experimentation.ipynb  93847fdd7442be01b96103dfb281eb1ae64ece45   \n5     Experimentation.ipynb  5046140600e8c4b698956f25353f092e5fc8aafc   \n6     Experimentation.ipynb  2034c4255e4f0c63befa51f905be0053c010898b   \n7     Experimentation.ipynb  3d702f368eaf0df616df8fea3af88c03dc367f49   \n8            GitAnalyzer.py  3d702f368eaf0df616df8fea3af88c03dc367f49   \n9     Experimentation.ipynb  4b60a127992e35478bb2e0abf42fa9a9cabe994a   \n10  RelationshipAnalyzer.py  4b60a127992e35478bb2e0abf42fa9a9cabe994a   \n\n        author  lines_added  lines_deleted  count  rel_.gitignore  \\\n0   Matt Eland            0              0      1               1   \n1   Matt Eland            1              0      1               1   \n2   Matt Eland          139              0      1               1   \n3   Matt Eland           36              0      1               1   \n4   Matt Eland           56              2      1               0   \n5   Matt Eland           75              9      1               0   \n6   Matt Eland           65             18      1               0   \n7   Matt Eland           24             67      1               0   \n8   Matt Eland           21              0      1               0   \n9   Matt Eland           76             12      1               0   \n10  Matt Eland            2              0      1               0   \n\n    rel_Experimentation.ipynb  rel_GitAnalyzer.py  rel_README.md  \\\n0                           0                   0              1   \n1                           0                   0              1   \n2                           1                   0              0   \n3                           1                   0              0   \n4                           1                   0              0   \n5                           1                   0              0   \n6                           1                   0              0   \n7                           1                   1              0   \n8                           1                   1              0   \n9                           1                   0              0   \n10                          1                   0              0   \n\n    rel_RelationshipAnalyzer.py  \n0                             0  \n1                             0  \n2                             0  \n3                             0  \n4                             0  \n5                             0  \n6                             0  \n7                             0  \n8                             0  \n9                             1  \n10                            1  ",
      "text/html": "<div>\n<style scoped>\n    .dataframe tbody tr th:only-of-type {\n        vertical-align: middle;\n    }\n\n    .dataframe tbody tr th {\n        vertical-align: top;\n    }\n\n    .dataframe thead th {\n        text-align: right;\n    }\n</style>\n<table border=\"1\" class=\"dataframe\">\n  <thead>\n    <tr style=\"text-align: right;\">\n      <th></th>\n      <th>path</th>\n      <th>commit</th>\n      <th>author</th>\n      <th>lines_added</th>\n      <th>lines_deleted</th>\n      <th>count</th>\n      <th>rel_.gitignore</th>\n      <th>rel_Experimentation.ipynb</th>\n      <th>rel_GitAnalyzer.py</th>\n      <th>rel_README.md</th>\n      <th>rel_RelationshipAnalyzer.py</th>\n    </tr>\n  </thead>\n  <tbody>\n    <tr>\n      <th>0</th>\n      <td>.gitignore</td>\n      <td>a85288e6deee374264b13d3143c886962e90550d</td>\n      <td>Matt Eland</td>\n      <td>0</td>\n      <td>0</td>\n      <td>1</td>\n      <td>1</td>\n      <td>0</td>\n      <td>0</td>\n      <td>1</td>\n      <td>0</td>\n    </tr>\n    <tr>\n      <th>1</th>\n      <td>README.md</td>\n      <td>a85288e6deee374264b13d3143c886962e90550d</td>\n      <td>Matt Eland</td>\n      <td>1</td>\n      <td>0</td>\n      <td>1</td>\n      <td>1</td>\n      <td>0</td>\n      <td>0</td>\n      <td>1</td>\n      <td>0</td>\n    </tr>\n    <tr>\n      <th>2</th>\n      <td>.gitignore</td>\n      <td>c58bad1219a1cf9b9b1105791fffc331a6d902fe</td>\n      <td>Matt Eland</td>\n      <td>139</td>\n      <td>0</td>\n      <td>1</td>\n      <td>1</td>\n      <td>1</td>\n      <td>0</td>\n      <td>0</td>\n      <td>0</td>\n    </tr>\n    <tr>\n      <th>3</th>\n      <td>Experimentation.ipynb</td>\n      <td>c58bad1219a1cf9b9b1105791fffc331a6d902fe</td>\n      <td>Matt Eland</td>\n      <td>36</td>\n      <td>0</td>\n      <td>1</td>\n      <td>1</td>\n      <td>1</td>\n      <td>0</td>\n      <td>0</td>\n      <td>0</td>\n    </tr>\n    <tr>\n      <th>4</th>\n      <td>Experimentation.ipynb</td>\n      <td>93847fdd7442be01b96103dfb281eb1ae64ece45</td>\n      <td>Matt Eland</td>\n      <td>56</td>\n      <td>2</td>\n      <td>1</td>\n      <td>0</td>\n      <td>1</td>\n      <td>0</td>\n      <td>0</td>\n      <td>0</td>\n    </tr>\n    <tr>\n      <th>5</th>\n      <td>Experimentation.ipynb</td>\n      <td>5046140600e8c4b698956f25353f092e5fc8aafc</td>\n      <td>Matt Eland</td>\n      <td>75</td>\n      <td>9</td>\n      <td>1</td>\n      <td>0</td>\n      <td>1</td>\n      <td>0</td>\n      <td>0</td>\n      <td>0</td>\n    </tr>\n    <tr>\n      <th>6</th>\n      <td>Experimentation.ipynb</td>\n      <td>2034c4255e4f0c63befa51f905be0053c010898b</td>\n      <td>Matt Eland</td>\n      <td>65</td>\n      <td>18</td>\n      <td>1</td>\n      <td>0</td>\n      <td>1</td>\n      <td>0</td>\n      <td>0</td>\n      <td>0</td>\n    </tr>\n    <tr>\n      <th>7</th>\n      <td>Experimentation.ipynb</td>\n      <td>3d702f368eaf0df616df8fea3af88c03dc367f49</td>\n      <td>Matt Eland</td>\n      <td>24</td>\n      <td>67</td>\n      <td>1</td>\n      <td>0</td>\n      <td>1</td>\n      <td>1</td>\n      <td>0</td>\n      <td>0</td>\n    </tr>\n    <tr>\n      <th>8</th>\n      <td>GitAnalyzer.py</td>\n      <td>3d702f368eaf0df616df8fea3af88c03dc367f49</td>\n      <td>Matt Eland</td>\n      <td>21</td>\n      <td>0</td>\n      <td>1</td>\n      <td>0</td>\n      <td>1</td>\n      <td>1</td>\n      <td>0</td>\n      <td>0</td>\n    </tr>\n    <tr>\n      <th>9</th>\n      <td>Experimentation.ipynb</td>\n      <td>4b60a127992e35478bb2e0abf42fa9a9cabe994a</td>\n      <td>Matt Eland</td>\n      <td>76</td>\n      <td>12</td>\n      <td>1</td>\n      <td>0</td>\n      <td>1</td>\n      <td>0</td>\n      <td>0</td>\n      <td>1</td>\n    </tr>\n    <tr>\n      <th>10</th>\n      <td>RelationshipAnalyzer.py</td>\n      <td>4b60a127992e35478bb2e0abf42fa9a9cabe994a</td>\n      <td>Matt Eland</td>\n      <td>2</td>\n      <td>0</td>\n      <td>1</td>\n      <td>0</td>\n      <td>1</td>\n      <td>0</td>\n      <td>0</td>\n      <td>1</td>\n    </tr>\n  </tbody>\n</table>\n</div>"
     },
     "execution_count": 3,
     "metadata": {},
     "output_type": "execute_result"
    }
   ],
   "source": [
    "from RelationshipAnalyzer import get_relationship_count\n",
    "\n",
    "for path in df.groupby(by=['path']).sum().index:\n",
    "    df['rel_' + path] = df['commit'].apply(lambda commit_hash: get_relationship_count(commit_hash, path, combinations))\n",
    "\n",
    "df"
   ],
   "metadata": {
    "collapsed": false,
    "pycharm": {
     "name": "#%%\n"
    }
   }
  },
  {
   "cell_type": "code",
   "execution_count": 5,
   "outputs": [
    {
     "data": {
      "text/plain": "                         lines_added  lines_deleted  count  rel_.gitignore  \\\npath                                                                         \n.gitignore                       139              0      2               2   \nExperimentation.ipynb            332            108      6               1   \nGitAnalyzer.py                    21              0      1               0   \nREADME.md                          1              0      1               1   \nRelationshipAnalyzer.py            2              0      1               0   \n\n                         rel_Experimentation.ipynb  rel_GitAnalyzer.py  \\\npath                                                                     \n.gitignore                                       1                   0   \nExperimentation.ipynb                            6                   1   \nGitAnalyzer.py                                   1                   1   \nREADME.md                                        0                   0   \nRelationshipAnalyzer.py                          1                   0   \n\n                         rel_README.md  rel_RelationshipAnalyzer.py  \npath                                                                 \n.gitignore                           1                            0  \nExperimentation.ipynb                0                            1  \nGitAnalyzer.py                       0                            0  \nREADME.md                            1                            0  \nRelationshipAnalyzer.py              0                            1  ",
      "text/html": "<div>\n<style scoped>\n    .dataframe tbody tr th:only-of-type {\n        vertical-align: middle;\n    }\n\n    .dataframe tbody tr th {\n        vertical-align: top;\n    }\n\n    .dataframe thead th {\n        text-align: right;\n    }\n</style>\n<table border=\"1\" class=\"dataframe\">\n  <thead>\n    <tr style=\"text-align: right;\">\n      <th></th>\n      <th>lines_added</th>\n      <th>lines_deleted</th>\n      <th>count</th>\n      <th>rel_.gitignore</th>\n      <th>rel_Experimentation.ipynb</th>\n      <th>rel_GitAnalyzer.py</th>\n      <th>rel_README.md</th>\n      <th>rel_RelationshipAnalyzer.py</th>\n    </tr>\n    <tr>\n      <th>path</th>\n      <th></th>\n      <th></th>\n      <th></th>\n      <th></th>\n      <th></th>\n      <th></th>\n      <th></th>\n      <th></th>\n    </tr>\n  </thead>\n  <tbody>\n    <tr>\n      <th>.gitignore</th>\n      <td>139</td>\n      <td>0</td>\n      <td>2</td>\n      <td>2</td>\n      <td>1</td>\n      <td>0</td>\n      <td>1</td>\n      <td>0</td>\n    </tr>\n    <tr>\n      <th>Experimentation.ipynb</th>\n      <td>332</td>\n      <td>108</td>\n      <td>6</td>\n      <td>1</td>\n      <td>6</td>\n      <td>1</td>\n      <td>0</td>\n      <td>1</td>\n    </tr>\n    <tr>\n      <th>GitAnalyzer.py</th>\n      <td>21</td>\n      <td>0</td>\n      <td>1</td>\n      <td>0</td>\n      <td>1</td>\n      <td>1</td>\n      <td>0</td>\n      <td>0</td>\n    </tr>\n    <tr>\n      <th>README.md</th>\n      <td>1</td>\n      <td>0</td>\n      <td>1</td>\n      <td>1</td>\n      <td>0</td>\n      <td>0</td>\n      <td>1</td>\n      <td>0</td>\n    </tr>\n    <tr>\n      <th>RelationshipAnalyzer.py</th>\n      <td>2</td>\n      <td>0</td>\n      <td>1</td>\n      <td>0</td>\n      <td>1</td>\n      <td>0</td>\n      <td>0</td>\n      <td>1</td>\n    </tr>\n  </tbody>\n</table>\n</div>"
     },
     "execution_count": 5,
     "metadata": {},
     "output_type": "execute_result"
    }
   ],
   "source": [
    "grouped = df.groupby(by=['path']).sum()\n",
    "grouped = grouped.sort_index()\n",
    "grouped"
   ],
   "metadata": {
    "collapsed": false,
    "pycharm": {
     "name": "#%%\n"
    }
   }
  },
  {
   "cell_type": "code",
   "execution_count": 16,
   "outputs": [
    {
     "data": {
      "text/plain": "<Figure size 432x288 with 1 Axes>",
      "image/png": "[encoded data removed]"
     },
     "metadata": {},
     "output_type": "display_data"
    }
   ],
   "source": [
    "import networkx as nx\n",
    "import matplotlib.pyplot as plt\n",
    "\n",
    "# libraries\n",
    "# Build a dataframe with your connections\n",
    "df = pd.DataFrame({ 'from':['A', 'B', 'C','A'], 'to':['D', 'A', 'E','C']})\n",
    "\n",
    "# And a data frame with characteristics for your nodes\n",
    "carac = pd.DataFrame({ 'ID':['A', 'B', 'C','D','E'], 'myvalue':['group1','group1','group2','group3','group3'] })\n",
    "\n",
    "# Build your graph\n",
    "G=nx.from_pandas_edgelist(df, 'from', 'to', create_using=nx.Graph() )\n",
    "\n",
    "# The order of the node for networkX is the following order:\n",
    "G.nodes()\n",
    "# Thus, we cannot give directly the 'myvalue' column to netowrkX, we need to arrange the order!\n",
    "\n",
    "# Here is the tricky part: I need to reorder carac to assign the good color to each node\n",
    "carac= carac.set_index('ID')\n",
    "carac=carac.reindex(G.nodes())\n",
    "\n",
    "# And I need to transform my categorical column in a numerical value: group1->1, group2->2...\n",
    "carac['myvalue']=pd.Categorical(carac['myvalue'])\n",
    "carac['myvalue'].cat.codes\n",
    "\n",
    "# Custom the nodes:\n",
    "nx.draw(G, with_labels=True, node_color=carac['myvalue'].cat.codes, cmap=plt.cm.Set1, node_size=1500)"
   ],
   "metadata": {
    "collapsed": false,
    "pycharm": {
     "name": "#%%\n"
    }
   }
  }
 ],
 "metadata": {
  "kernelspec": {
   "display_name": "Python 3",
   "language": "python",
   "name": "python3"
  },
  "language_info": {
   "codemirror_mode": {
    "name": "ipython",
    "version": 2
   },
   "file_extension": ".py",
   "mimetype": "text/x-python",
   "name": "python",
   "nbconvert_exporter": "python",
   "pygments_lexer": "ipython2",
   "version": "2.7.6"
  }
 },
 "nbformat": 4,
 "nbformat_minor": 0
}